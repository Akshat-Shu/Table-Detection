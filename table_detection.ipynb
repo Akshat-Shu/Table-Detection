{
 "cells": [
  {
   "cell_type": "code",
   "execution_count": null,
   "metadata": {},
   "outputs": [],
   "source": [
    "import cv2\n",
    "import numpy as np\n",
    "import math\n",
    "import pytesseract\n",
    "\n",
    "img = cv2.imread('timetable.jpg')\n",
    "dilated = cv2.dilate(img, kernel=np.ones((5, 5), np.uint8), iterations=1)\n",
    "\n",
    "gray = cv2.cvtColor(img, cv2.COLOR_BGR2GRAY)\n",
    "edges = cv2.Canny(gray, 200, 200, apertureSize=3)\n",
    "cv2.imwrite(\"dilated.jpg\", dilated)\n",
    "cv2.imwrite(\"gray.jpg\", gray)\n",
    "cv2.imwrite(\"edges.jpg\", edges)"
   ]
  },
  {
   "cell_type": "code",
   "execution_count": null,
   "metadata": {},
   "outputs": [],
   "source": [
    "class Line:\n",
    "    HORIZONTAL = 0\n",
    "    VERTICAL = 1\n",
    "\n",
    "    def __init__(self, x0, y0, x1, y1):\n",
    "        if x0 < x1:\n",
    "            self.x0 = x0\n",
    "            self.y0 = y0\n",
    "            self.x1 = x1\n",
    "            self.y1 = y1\n",
    "        else:\n",
    "            self.x0 = x1\n",
    "            self.y0 = y1\n",
    "            self.x1 = x0\n",
    "            self.y1 = y0\n",
    "    \n",
    "    def configuration(self):\n",
    "        return Line.HORIZONTAL if  abs(self.x0-self.x1) < abs(self.y0-self.y1) else Line.VERTICAL\n",
    "\n",
    "    def __str__(self):\n",
    "        return \"(\" + str(self.x0) + \", \" + str(self.y0) + \") (\" + str(self.x1) + \", \" + str(self.y1) + \")\"\n",
    "    \n",
    "    def length(self):\n",
    "        return math.sqrt((self.x0-self.x1) ** 2 + (self.y0-self.y1) ** 2)\n",
    "\n",
    "    def coordinates(self):\n",
    "      return ((self.x0, self.y0), (self.x1, self.y1))\n",
    "\n",
    "    def coordinates_as_int(self):\n",
    "      return ((int(self.x0), int(self.y0)), (int(self.x1), int(self.y1)))"
   ]
  },
  {
   "cell_type": "code",
   "execution_count": null,
   "metadata": {},
   "outputs": [],
   "source": [
    "lsd = cv2.createLineSegmentDetector(cv2.LSD_REFINE_ADV, sigma_scale=0.3)\n",
    "dlines = lsd.detect(edges)\n",
    "lines = [Line(x0, y0, x1, y1) for x0, y0, x1, y1 in dlines[0][:, 0]]\n",
    "imgCopy = img.copy()\n",
    "for dline in dlines[0]:\n",
    "    x0 = int(round(dline[0][0]))\n",
    "    y0 = int(round(dline[0][1]))\n",
    "    x1 = int(round(dline[0][2]))\n",
    "    y1 = int(round(dline[0][3]))\n",
    "    cv2.putText(imgCopy, \"(\" + str(x0) + \", \" + str(y0) + \")\", (x0, y0), cv2.FONT_HERSHEY_SIMPLEX, 0.5, (0, 0, 0), 1)\n",
    "    cv2.putText(imgCopy, \"(\" + str(x1) + \", \" + str(y1) + \")\", (x1, y1), cv2.FONT_HERSHEY_SIMPLEX, 0.5, (0, 0, 0), 1)\n",
    "    cv2.line(imgCopy, (x0, y0), (x1, y1), (0, 255, 0), 2)\n",
    "\n",
    "cv2.imwrite(\"lsd.jpg\", imgCopy)"
   ]
  },
  {
   "cell_type": "code",
   "execution_count": null,
   "metadata": {},
   "outputs": [],
   "source": [
    "tableStructure = np.zeros(img.shape, dtype=np.uint8)\n",
    "print(img.shape)\n",
    "\n",
    "for line in lines:\n",
    "  coordinates = line.coordinates_as_int()\n",
    "  cv2.line(tableStructure, coordinates[0], coordinates[1], (255, 255, 255), 1)"
   ]
  },
  {
   "cell_type": "code",
   "execution_count": null,
   "metadata": {},
   "outputs": [],
   "source": [
    "kernel = np.ones((5, 5), np.uint8)\n",
    "tableStructure = cv2.dilate(tableStructure, kernel, iterations=1)\n",
    "cv2.imwrite(\"tableStructure.jpg\", tableStructure)"
   ]
  },
  {
   "cell_type": "code",
   "execution_count": null,
   "metadata": {},
   "outputs": [],
   "source": [
    "table_structure = cv2.cvtColor(tableStructure, cv2.COLOR_RGB2GRAY)\n",
    "contours, hierarchy = cv2.findContours(table_structure, cv2.RETR_TREE, cv2.CHAIN_APPROX_SIMPLE)\n",
    "count = 0\n",
    "\n",
    "full_list=[]\n",
    "row=[]\n",
    "data=[]\n",
    "first_iter=0\n",
    "firsty=-1\n",
    "\n",
    "rectangle_table = np.zeros(table_structure.shape, np.uint8)\n",
    "for c in contours[:20]:\n",
    "  x, y, w, h = cv2.boundingRect(c)\n",
    "  print(x, y, w, h, sep=', ')\n",
    "  cv2.rectangle(rectangle_table, (x, y), (x+w, y+h), 255, 1)\n",
    "\n",
    "cv2.imwrite(\"rectangle_table.jpg\", rectangle_table)"
   ]
  },
  {
   "cell_type": "code",
   "execution_count": null,
   "metadata": {},
   "outputs": [],
   "source": [
    "fcont = cv2.boundingRect(contours[-13])\n",
    "x, y, w, h = fcont\n",
    "print(x, y, h, w)\n",
    "\n",
    "newImg = gray[y:y+h, x:x+w]\n",
    "print(newImg.shape)\n",
    "print(pytesseract.image_to_string(newImg))\n",
    "Image.fromarray(newImg)\n"
   ]
  }
 ],
 "metadata": {
  "kernelspec": {
   "display_name": "Python 3",
   "language": "python",
   "name": "python3"
  },
  "language_info": {
   "name": "python",
   "version": "3.12.8"
  }
 },
 "nbformat": 4,
 "nbformat_minor": 2
}

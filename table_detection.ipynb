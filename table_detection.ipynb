{
 "cells": [
  {
   "cell_type": "code",
   "execution_count": 23,
   "metadata": {},
   "outputs": [
    {
     "data": {
      "text/plain": [
       "True"
      ]
     },
     "execution_count": 23,
     "metadata": {},
     "output_type": "execute_result"
    }
   ],
   "source": [
    "import cv2\n",
    "import numpy as np\n",
    "import math\n",
    "import pytesseract\n",
    "\n",
    "img = cv2.imread('Sem 2.png')\n",
    "dilated = cv2.dilate(img, kernel=np.ones((5, 5), np.uint8), iterations=1)\n",
    "\n",
    "gray = cv2.cvtColor(img, cv2.COLOR_BGR2GRAY)\n",
    "edges = cv2.Canny(gray, 200, 200, apertureSize=3)\n",
    "cv2.imwrite(\"dilated.jpg\", dilated)\n",
    "cv2.imwrite(\"gray.jpg\", gray)\n",
    "cv2.imwrite(\"edges.jpg\", edges)"
   ]
  },
  {
   "cell_type": "code",
   "execution_count": 24,
   "metadata": {},
   "outputs": [],
   "source": [
    "class Line:\n",
    "    HORIZONTAL = 0\n",
    "    VERTICAL = 1\n",
    "\n",
    "    def __init__(self, x0, y0, x1, y1):\n",
    "        if x0 < x1:\n",
    "            self.x0 = x0\n",
    "            self.y0 = y0\n",
    "            self.x1 = x1\n",
    "            self.y1 = y1\n",
    "        else:\n",
    "            self.x0 = x1\n",
    "            self.y0 = y1\n",
    "            self.x1 = x0\n",
    "            self.y1 = y0\n",
    "    \n",
    "    def configuration(self):\n",
    "        return Line.HORIZONTAL if  abs(self.x0-self.x1) < abs(self.y0-self.y1) else Line.VERTICAL\n",
    "\n",
    "    def __str__(self):\n",
    "        return \"(\" + str(self.x0) + \", \" + str(self.y0) + \") (\" + str(self.x1) + \", \" + str(self.y1) + \")\"\n",
    "    \n",
    "    def length(self):\n",
    "        return math.sqrt((self.x0-self.x1) ** 2 + (self.y0-self.y1) ** 2)\n",
    "\n",
    "    def coordinates(self):\n",
    "      return ((self.x0, self.y0), (self.x1, self.y1))\n",
    "\n",
    "    def coordinates_as_int(self):\n",
    "      return ((int(self.x0), int(self.y0)), (int(self.x1), int(self.y1)))"
   ]
  },
  {
   "cell_type": "code",
   "execution_count": 36,
   "metadata": {},
   "outputs": [
    {
     "data": {
      "text/plain": [
       "True"
      ]
     },
     "execution_count": 36,
     "metadata": {},
     "output_type": "execute_result"
    }
   ],
   "source": [
    "lsd = cv2.createLineSegmentDetector(cv2.LSD_REFINE_ADV, sigma_scale=0.35)\n",
    "dlines = lsd.detect(edges)\n",
    "lines = [Line(x0, y0, x1, y1) for x0, y0, x1, y1 in dlines[0][:, 0]]\n",
    "imgCopy = img.copy()\n",
    "for dline in dlines[0]:\n",
    "    x0 = int(round(dline[0][0]))\n",
    "    y0 = int(round(dline[0][1]))\n",
    "    x1 = int(round(dline[0][2]))\n",
    "    y1 = int(round(dline[0][3]))\n",
    "    cv2.putText(imgCopy, \"(\" + str(x0) + \", \" + str(y0) + \")\", (x0, y0), cv2.FONT_HERSHEY_SIMPLEX, 0.5, (0, 0, 0), 1)\n",
    "    cv2.putText(imgCopy, \"(\" + str(x1) + \", \" + str(y1) + \")\", (x1, y1), cv2.FONT_HERSHEY_SIMPLEX, 0.5, (0, 0, 0), 1)\n",
    "    cv2.line(imgCopy, (x0, y0), (x1, y1), (0, 255, 0), 2)\n",
    "\n",
    "cv2.imwrite(\"lsd.jpg\", imgCopy)"
   ]
  },
  {
   "cell_type": "code",
   "execution_count": 37,
   "metadata": {},
   "outputs": [
    {
     "name": "stdout",
     "output_type": "stream",
     "text": [
      "(322, 1680, 3)\n"
     ]
    }
   ],
   "source": [
    "tableStructure = np.zeros(img.shape, dtype=np.uint8)\n",
    "print(img.shape)\n",
    "\n",
    "for line in lines:\n",
    "  coordinates = line.coordinates_as_int()\n",
    "  cv2.line(tableStructure, coordinates[0], coordinates[1], (255, 255, 255), 1)"
   ]
  },
  {
   "cell_type": "code",
   "execution_count": 38,
   "metadata": {},
   "outputs": [
    {
     "data": {
      "text/plain": [
       "True"
      ]
     },
     "execution_count": 38,
     "metadata": {},
     "output_type": "execute_result"
    }
   ],
   "source": [
    "kernel = np.ones((5, 5), np.uint8)\n",
    "tableStructure = cv2.dilate(tableStructure, kernel, iterations=1)\n",
    "cv2.imwrite(\"tableStructure.jpg\", tableStructure)"
   ]
  },
  {
   "cell_type": "code",
   "execution_count": 45,
   "metadata": {},
   "outputs": [],
   "source": [
    "class Rectangle:\n",
    "  def __init__(self, x, y, w, h):\n",
    "    self.x = x\n",
    "    self.y = y\n",
    "    self.w = w\n",
    "    self.h = h\n",
    "\n",
    "  def contains(self, rect):\n",
    "    return (\n",
    "        self.x <= rect.x and\n",
    "        self.x + self.w >= rect.x + rect.w and\n",
    "        self.y <= rect.y and\n",
    "        self.y + self.h >= rect.y + rect.h\n",
    "    )\n",
    "\n",
    "  def is_contained(self, rect):\n",
    "    return rect.contains(self)\n",
    "\n",
    "  def get_text(self, img):\n",
    "    sub_img = img[self.y:self.y+self.h, self.x:self.x+self.w]\n",
    "    return pytesseract.image_to_string(sub_img, lang='eng', config='--oem 3 --psm 6').strip()\n",
    "  \n",
    "  def get_centre(self):\n",
    "    return (self.x + self.w // 2, self.y + self.h // 2)\n",
    "  \n",
    "  def angle_line_centres(self, rect):\n",
    "    x1, y1 = self.get_centre()\n",
    "    x2, y2 = rect.get_centre()\n",
    "    return math.atan2(abs(y2 - y1), abs(x2 - x1))"
   ]
  },
  {
   "cell_type": "code",
   "execution_count": 46,
   "metadata": {},
   "outputs": [],
   "source": [
    "def print_rectangles(rectangles, img):\n",
    "  temp = np.zeros(img.shape, dtype=np.uint8)\n",
    "  temp = cv2.cvtColor(temp, cv2.COLOR_GRAY2BGR)\n",
    "  for rect in rectangles:\n",
    "    cv2.rectangle(temp, (rect.x, rect.y), (rect.x + rect.w, rect.y + rect.h), (0, 255, 0), 1)\n",
    "  cv2.imwrite(\"rectangles.jpg\", temp)"
   ]
  },
  {
   "cell_type": "code",
   "execution_count": 47,
   "metadata": {},
   "outputs": [],
   "source": [
    "table_structure = cv2.cvtColor(tableStructure, cv2.COLOR_RGB2GRAY)\n",
    "contours, hierarchy = cv2.findContours(table_structure, cv2.RETR_TREE, cv2.CHAIN_APPROX_SIMPLE)\n",
    "count = 0\n",
    "\n",
    "rectangles = [] \n",
    "\n",
    "for c in contours:\n",
    "  x, y, w, h = cv2.boundingRect(c)\n",
    "  rectangles.append(Rectangle(x, y, w, h))\n",
    "\n",
    "print_rectangles(rectangles, table_structure)"
   ]
  },
  {
   "cell_type": "code",
   "execution_count": 48,
   "metadata": {},
   "outputs": [
    {
     "name": "stdout",
     "output_type": "stream",
     "text": [
      "1424 17 14 5\n",
      "(14, 5)\n",
      "\n"
     ]
    },
    {
     "data": {
      "image/jpeg": "[encoded data removed]",
      "image/png": "[encoded data removed]",
      "text/plain": [
       "<PIL.Image.Image image mode=L size=5x14>"
      ]
     },
     "execution_count": 48,
     "metadata": {},
     "output_type": "execute_result"
    }
   ],
   "source": [
    "from PIL import Image\n",
    "fcont = cv2.boundingRect(contours[-13])\n",
    "x, y, w, h = fcont\n",
    "print(x, y, h, w)\n",
    "\n",
    "newImg = gray[y:y+h, x:x+w]\n",
    "print(newImg.shape)\n",
    "print(pytesseract.image_to_string(newImg))\n",
    "Image.fromarray(newImg)\n"
   ]
  },
  {
   "cell_type": "code",
   "execution_count": 49,
   "metadata": {},
   "outputs": [],
   "source": [
    "# remove the rectangle which contains all the other rectangles\n",
    "max_x_rect = 0\n",
    "min_x_rect = 0\n",
    "max_y_rect = 0\n",
    "min_y_rect = 0\n",
    "for i in range(len(rectangles)):\n",
    "  rect = rectangles[i]\n",
    "  x, y, w, h = rect.x, rect.y, rect.w, rect.h\n",
    "  if x > max_x_rect: max_x_rect = i\n",
    "  if x < min_x_rect: min_x_rect = i\n",
    "  if y > max_y_rect: max_y_rect = i\n",
    "  if y < min_y_rect: min_y_rect = i\n",
    "set_rect = set([max_x_rect, min_x_rect, max_y_rect, min_y_rect])\n",
    "valid = [True] * len(rectangles)\n",
    "for r in set_rect:\n",
    "  contains_all = True\n",
    "  for i in range(len(rectangles)):\n",
    "    if i == r: continue\n",
    "    if not rectangles[r].contains(rectangles[i]):\n",
    "      contains_all = False\n",
    "      break\n",
    "  if contains_all:\n",
    "    valid[r] = False\n",
    "\n",
    "# Remove the rectangles which are contained by other rectangles\n",
    "for i in range(len(rectangles)):\n",
    "  if not valid[i]: continue\n",
    "  for j in range(len(rectangles)):\n",
    "    if i == j: continue\n",
    "    if rectangles[i].contains(rectangles[j]):\n",
    "      valid[j] = False\n",
    "\n",
    "filtered_rect = [rectangles[i] for i in range(len(rectangles)) if valid[i]]\n",
    "\n",
    "print_rectangles(filtered_rect, table_structure)\n"
   ]
  },
  {
   "cell_type": "code",
   "execution_count": null,
   "metadata": {},
   "outputs": [],
   "source": [
    "# By now, all the rectangles are the ones which we care about\n",
    "# the rectangles need not be always ordered but they are sorted by their y coordinates first and then their x coordinates"
   ]
  },
  {
   "cell_type": "code",
   "execution_count": 62,
   "metadata": {},
   "outputs": [],
   "source": [
    "rows = []\n",
    "row = []\n",
    "rows_text = []\n",
    "back = -1\n",
    "for rec in filtered_rect:\n",
    "    if back == -1:\n",
    "        row.append(rec)\n",
    "        back = rec.y\n",
    "    elif abs(back - rec.y) < img.shape[0] // 20:\n",
    "        row.append(rec)\n",
    "        back = rec.y\n",
    "    else:\n",
    "        rows.append(row)\n",
    "        row = [rec]\n",
    "        back = -1\n",
    "\n",
    "if len(row): rows.append(row)\n",
    "rows.reverse()\n",
    "for row in rows:\n",
    "    row.sort(key=lambda x: x.x)\n",
    "\n",
    "\n",
    "    "
   ]
  },
  {
   "cell_type": "code",
   "execution_count": 63,
   "metadata": {},
   "outputs": [],
   "source": [
    "import pandas as pd"
   ]
  },
  {
   "cell_type": "code",
   "execution_count": null,
   "metadata": {},
   "outputs": [],
   "source": [
    "# row[0] is the first row: presents the columns\n",
    "columns = rows[0]\n",
    "\n",
    "def get_maximum_intersecting_column(row, rect):\n",
    "    max_intersect = -1\n",
    "    max_intersect_i = 0\n",
    "    for i in range(len(row)):\n",
    "        r = row[i]\n",
    "        intersect = 0\n",
    "        x11, x12, x21, x22 = r.x, r.x + r.w, rect.x, rect.x + rect.w\n",
    "        if x12 > x21 and x22 > x11: intersect = min(x12, x22) - max(x11, x21)\n",
    "        if intersect > max_intersect:\n",
    "            max_intersect = intersect\n",
    "            max_intersect_i = i\n",
    "    return max_intersect_i\n",
    "\n",
    "df = [[] for _ in range(len(rows)-1)]\n",
    "for col in columns:\n",
    "    for i in range(1, len(rows)):\n",
    "        row = rows[i]\n",
    "        intersecting_column = get_maximum_intersecting_column(row, col)\n",
    "        df[i-1].append(row[intersecting_column].get_text(gray))\n",
    "\n",
    "\n",
    "pd.DataFrame(df, columns=[col.get_text(gray) for col in columns])"
   ]
  }
 ],
 "metadata": {
  "kernelspec": {
   "display_name": "Python 3",
   "language": "python",
   "name": "python3"
  },
  "language_info": {
   "codemirror_mode": {
    "name": "ipython",
    "version": 3
   },
   "file_extension": ".py",
   "mimetype": "text/x-python",
   "name": "python",
   "nbconvert_exporter": "python",
   "pygments_lexer": "ipython3",
   "version": "3.12.8"
  }
 },
 "nbformat": 4,
 "nbformat_minor": 2
}

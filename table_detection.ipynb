{
 "cells": [
  {
   "cell_type": "code",
   "execution_count": 1,
   "metadata": {},
   "outputs": [
    {
     "data": {
      "text/plain": [
       "True"
      ]
     },
     "execution_count": 1,
     "metadata": {},
     "output_type": "execute_result"
    }
   ],
   "source": [
    "import cv2\n",
    "import pandas as pd\n",
    "import numpy as np\n",
    "import pytesseract\n",
    "from Classes.line import Line\n",
    "from Classes.rectangle import Rectangle\n",
    "from Utils.print_rectangle import print_rectangles\n",
    "from Utils.filter_rectangles import filter_rectangles\n",
    "from Utils.get_maximum_intersecting_column import get_maximum_intersecting_column\n",
    "from Utils.sort_rows import sort_rows\n",
    "\n",
    "\n",
    "img = cv2.imread('Sem 2.png')\n",
    "dilated = cv2.dilate(img, kernel=np.ones((5, 5), np.uint8), iterations=1)\n",
    "\n",
    "gray = cv2.cvtColor(img, cv2.COLOR_BGR2GRAY)\n",
    "edges = cv2.Canny(gray, 200, 200, apertureSize=3)\n",
    "cv2.imwrite(\"dilated.jpg\", dilated)\n",
    "cv2.imwrite(\"gray.jpg\", gray)\n",
    "cv2.imwrite(\"edges.jpg\", edges)"
   ]
  },
  {
   "cell_type": "code",
   "execution_count": 2,
   "metadata": {},
   "outputs": [
    {
     "data": {
      "text/plain": [
       "True"
      ]
     },
     "execution_count": 2,
     "metadata": {},
     "output_type": "execute_result"
    }
   ],
   "source": [
    "lsd = cv2.createLineSegmentDetector(cv2.LSD_REFINE_ADV, sigma_scale=0.35)\n",
    "dlines = lsd.detect(edges)\n",
    "lines = [Line(x0, y0, x1, y1) for x0, y0, x1, y1 in dlines[0][:, 0]]\n",
    "imgCopy = img.copy()\n",
    "for dline in dlines[0]:\n",
    "    x0 = int(round(dline[0][0]))\n",
    "    y0 = int(round(dline[0][1]))\n",
    "    x1 = int(round(dline[0][2]))\n",
    "    y1 = int(round(dline[0][3]))\n",
    "    cv2.putText(imgCopy, \"(\" + str(x0) + \", \" + str(y0) + \")\", (x0, y0), cv2.FONT_HERSHEY_SIMPLEX, 0.5, (0, 0, 0), 1)\n",
    "    cv2.putText(imgCopy, \"(\" + str(x1) + \", \" + str(y1) + \")\", (x1, y1), cv2.FONT_HERSHEY_SIMPLEX, 0.5, (0, 0, 0), 1)\n",
    "    cv2.line(imgCopy, (x0, y0), (x1, y1), (0, 255, 0), 2)\n",
    "\n",
    "cv2.imwrite(\"lsd.jpg\", imgCopy)"
   ]
  },
  {
   "cell_type": "code",
   "execution_count": 3,
   "metadata": {},
   "outputs": [
    {
     "name": "stdout",
     "output_type": "stream",
     "text": [
      "(322, 1680, 3)\n"
     ]
    }
   ],
   "source": [
    "tableStructure = np.zeros(img.shape, dtype=np.uint8)\n",
    "print(img.shape)\n",
    "\n",
    "for line in lines:\n",
    "  coordinates = line.coordinates_as_int()\n",
    "  cv2.line(tableStructure, coordinates[0], coordinates[1], (255, 255, 255), 1)"
   ]
  },
  {
   "cell_type": "code",
   "execution_count": 4,
   "metadata": {},
   "outputs": [
    {
     "data": {
      "text/plain": [
       "True"
      ]
     },
     "execution_count": 4,
     "metadata": {},
     "output_type": "execute_result"
    }
   ],
   "source": [
    "kernel = np.ones((5, 5), np.uint8)\n",
    "tableStructure = cv2.dilate(tableStructure, kernel, iterations=1)\n",
    "cv2.imwrite(\"tableStructure.jpg\", tableStructure)"
   ]
  },
  {
   "cell_type": "code",
   "execution_count": 5,
   "metadata": {},
   "outputs": [],
   "source": [
    "table_structure = cv2.cvtColor(tableStructure, cv2.COLOR_RGB2GRAY)\n",
    "contours, hierarchy = cv2.findContours(table_structure, cv2.RETR_TREE, cv2.CHAIN_APPROX_SIMPLE)\n",
    "count = 0\n",
    "\n",
    "rectangles = [] \n",
    "\n",
    "for c in contours:\n",
    "  x, y, w, h = cv2.boundingRect(c)\n",
    "  rectangles.append(Rectangle(x, y, w, h))\n",
    "\n",
    "print_rectangles(rectangles, table_structure)"
   ]
  },
  {
   "cell_type": "code",
   "execution_count": 6,
   "metadata": {},
   "outputs": [
    {
     "name": "stdout",
     "output_type": "stream",
     "text": [
      "973 10 25 149\n",
      "(25, 149)\n",
      "PM-2:55:PM\n",
      "\n"
     ]
    },
    {
     "data": {
      "image/jpeg": "[encoded data removed]",
      "image/png": "[encoded data removed]",
      "text/plain": [
       "<PIL.Image.Image image mode=L size=149x25>"
      ]
     },
     "execution_count": 6,
     "metadata": {},
     "output_type": "execute_result"
    }
   ],
   "source": [
    "from PIL import Image\n",
    "fcont = cv2.boundingRect(contours[-10])\n",
    "x, y, w, h = fcont\n",
    "print(x, y, h, w)\n",
    "\n",
    "newImg = gray[y:y+h, x:x+w]\n",
    "print(newImg.shape)\n",
    "print(pytesseract.image_to_string(newImg))\n",
    "Image.fromarray(newImg)\n"
   ]
  },
  {
   "cell_type": "code",
   "execution_count": 7,
   "metadata": {},
   "outputs": [
    {
     "name": "stdout",
     "output_type": "stream",
     "text": [
      "[<Classes.rectangle.Rectangle object at 0x000001E24CC25E50>, <Classes.rectangle.Rectangle object at 0x000001E24CC269C0>, <Classes.rectangle.Rectangle object at 0x000001E24CC25F40>, <Classes.rectangle.Rectangle object at 0x000001E24CC27200>, <Classes.rectangle.Rectangle object at 0x000001E24CC27FE0>, <Classes.rectangle.Rectangle object at 0x000001E24CC27710>, <Classes.rectangle.Rectangle object at 0x000001E265827230>, <Classes.rectangle.Rectangle object at 0x000001E265827140>, <Classes.rectangle.Rectangle object at 0x000001E265826930>, <Classes.rectangle.Rectangle object at 0x000001E265826AB0>, <Classes.rectangle.Rectangle object at 0x000001E2658268A0>, <Classes.rectangle.Rectangle object at 0x000001E2658272C0>, <Classes.rectangle.Rectangle object at 0x000001E265827290>, <Classes.rectangle.Rectangle object at 0x000001E2658272F0>, <Classes.rectangle.Rectangle object at 0x000001E265827170>, <Classes.rectangle.Rectangle object at 0x000001E265826D20>, <Classes.rectangle.Rectangle object at 0x000001E265826FC0>, <Classes.rectangle.Rectangle object at 0x000001E265827350>, <Classes.rectangle.Rectangle object at 0x000001E265827380>, <Classes.rectangle.Rectangle object at 0x000001E2658273B0>, <Classes.rectangle.Rectangle object at 0x000001E2658273E0>, <Classes.rectangle.Rectangle object at 0x000001E265827410>, <Classes.rectangle.Rectangle object at 0x000001E265827440>, <Classes.rectangle.Rectangle object at 0x000001E2658274D0>, <Classes.rectangle.Rectangle object at 0x000001E265827590>, <Classes.rectangle.Rectangle object at 0x000001E2658275F0>, <Classes.rectangle.Rectangle object at 0x000001E265827650>, <Classes.rectangle.Rectangle object at 0x000001E2658276E0>, <Classes.rectangle.Rectangle object at 0x000001E265827710>, <Classes.rectangle.Rectangle object at 0x000001E265827770>, <Classes.rectangle.Rectangle object at 0x000001E2658277D0>, <Classes.rectangle.Rectangle object at 0x000001E265827830>, <Classes.rectangle.Rectangle object at 0x000001E265827890>, <Classes.rectangle.Rectangle object at 0x000001E2658278F0>, <Classes.rectangle.Rectangle object at 0x000001E265827950>, <Classes.rectangle.Rectangle object at 0x000001E2658279B0>, <Classes.rectangle.Rectangle object at 0x000001E265827A10>, <Classes.rectangle.Rectangle object at 0x000001E265827A70>, <Classes.rectangle.Rectangle object at 0x000001E265827AD0>, <Classes.rectangle.Rectangle object at 0x000001E265827B30>, <Classes.rectangle.Rectangle object at 0x000001E265827B90>, <Classes.rectangle.Rectangle object at 0x000001E265827BF0>, <Classes.rectangle.Rectangle object at 0x000001E265827C50>, <Classes.rectangle.Rectangle object at 0x000001E265827CB0>, <Classes.rectangle.Rectangle object at 0x000001E265827D70>, <Classes.rectangle.Rectangle object at 0x000001E265827DD0>, <Classes.rectangle.Rectangle object at 0x000001E265827E30>, <Classes.rectangle.Rectangle object at 0x000001E265827EF0>, <Classes.rectangle.Rectangle object at 0x000001E265827FB0>, <Classes.rectangle.Rectangle object at 0x000001E2658140B0>, <Classes.rectangle.Rectangle object at 0x000001E265814170>, <Classes.rectangle.Rectangle object at 0x000001E2658141D0>, <Classes.rectangle.Rectangle object at 0x000001E265814230>, <Classes.rectangle.Rectangle object at 0x000001E265814290>, <Classes.rectangle.Rectangle object at 0x000001E2658142F0>, <Classes.rectangle.Rectangle object at 0x000001E2658143B0>]\n"
     ]
    }
   ],
   "source": [
    "filtered_rect = filter_rectangles(rectangles)\n",
    "\n",
    "print(filtered_rect)"
   ]
  },
  {
   "cell_type": "code",
   "execution_count": 141,
   "metadata": {},
   "outputs": [],
   "source": [
    "# By now, all the rectangles are the ones which we care about\n",
    "# the rectangles need not be always ordered but they are sorted by their y coordinates first and then their x coordinates"
   ]
  },
  {
   "cell_type": "code",
   "execution_count": 8,
   "metadata": {},
   "outputs": [],
   "source": [
    "rows = sort_rows(filtered_rect, img.shape[0]//20)\n",
    "    "
   ]
  },
  {
   "cell_type": "code",
   "execution_count": 9,
   "metadata": {},
   "outputs": [
    {
     "data": {
      "text/html": [
       "<div>\n",
       "<style scoped>\n",
       "    .dataframe tbody tr th:only-of-type {\n",
       "        vertical-align: middle;\n",
       "    }\n",
       "\n",
       "    .dataframe tbody tr th {\n",
       "        vertical-align: top;\n",
       "    }\n",
       "\n",
       "    .dataframe thead th {\n",
       "        text-align: right;\n",
       "    }\n",
       "</style>\n",
       "<table border=\"1\" class=\"dataframe\">\n",
       "  <thead>\n",
       "    <tr style=\"text-align: right;\">\n",
       "      <th></th>\n",
       "      <th>Day Name</th>\n",
       "      <th>8:0:AM-8:55:AM.</th>\n",
       "      <th>9:0:AM-9:55:AM.</th>\n",
       "      <th>10:0:AM-10:55:AM</th>\n",
       "      <th>11:0:AM-11:55:AM</th>\n",
       "      <th>12:0:PM-12:55:PM</th>\n",
       "      <th>2:0:PM-2:55:PM.</th>\n",
       "      <th>3:0:PM-3:55:PM.</th>\n",
       "      <th>4:0:PM-4:55:PM.</th>\n",
       "      <th>5:0:PM-5:55:PM.</th>\n",
       "    </tr>\n",
       "  </thead>\n",
       "  <tbody>\n",
       "    <tr>\n",
       "      <th>0</th>\n",
       "      <td>Mon</td>\n",
       "      <td>cS11002\\nNR422</td>\n",
       "      <td>cS11002\\nNR422</td>\n",
       "      <td>EC29201\\nIn the Department</td>\n",
       "      <td>EC29201\\nIn the Department</td>\n",
       "      <td>EC29201\\nIn the Department</td>\n",
       "      <td></td>\n",
       "      <td>£C21201\\nNR311</td>\n",
       "      <td>£C21201\\nNR311</td>\n",
       "      <td></td>\n",
       "    </tr>\n",
       "    <tr>\n",
       "      <th>1</th>\n",
       "      <td>Tue</td>\n",
       "      <td></td>\n",
       "      <td></td>\n",
       "      <td></td>\n",
       "      <td></td>\n",
       "      <td>cS11002\\nNR422</td>\n",
       "      <td>£C21201\\nNR311</td>\n",
       "      <td>£C21201\\nNR311</td>\n",
       "      <td></td>\n",
       "      <td></td>\n",
       "    </tr>\n",
       "    <tr>\n",
       "      <th>2</th>\n",
       "      <td>Wed</td>\n",
       "      <td></td>\n",
       "      <td></td>\n",
       "      <td>cy11003\\nNR111</td>\n",
       "      <td>cS11002\\nNR422</td>\n",
       "      <td>MA11004\\nNR111</td>\n",
       "      <td></td>\n",
       "      <td></td>\n",
       "      <td></td>\n",
       "      <td></td>\n",
       "    </tr>\n",
       "    <tr>\n",
       "      <th>3</th>\n",
       "      <td>Thur</td>\n",
       "      <td></td>\n",
       "      <td>cy11003\\nNR111</td>\n",
       "      <td></td>\n",
       "      <td>MA11004\\nNR111</td>\n",
       "      <td></td>\n",
       "      <td></td>\n",
       "      <td></td>\n",
       "      <td></td>\n",
       "      <td></td>\n",
       "    </tr>\n",
       "    <tr>\n",
       "      <th>4</th>\n",
       "      <td>Fri</td>\n",
       "      <td></td>\n",
       "      <td>MA11004\\nNR111</td>\n",
       "      <td>MA11004\\nNR111</td>\n",
       "      <td>cy11003\\nNR111</td>\n",
       "      <td>cy11003\\nNR111</td>\n",
       "      <td>cy19003\\nIn the Department</td>\n",
       "      <td>cy19003\\nIn the Department</td>\n",
       "      <td>cy19003\\nIn the Department</td>\n",
       "      <td></td>\n",
       "    </tr>\n",
       "  </tbody>\n",
       "</table>\n",
       "</div>"
      ],
      "text/plain": [
       "  Day Name 8:0:AM-8:55:AM. 9:0:AM-9:55:AM.            10:0:AM-10:55:AM  \\\n",
       "0      Mon  cS11002\\nNR422  cS11002\\nNR422  EC29201\\nIn the Department   \n",
       "1      Tue                                                               \n",
       "2      Wed                                              cy11003\\nNR111   \n",
       "3     Thur                  cy11003\\nNR111                               \n",
       "4      Fri                  MA11004\\nNR111              MA11004\\nNR111   \n",
       "\n",
       "             11:0:AM-11:55:AM            12:0:PM-12:55:PM  \\\n",
       "0  EC29201\\nIn the Department  EC29201\\nIn the Department   \n",
       "1                                          cS11002\\nNR422   \n",
       "2              cS11002\\nNR422              MA11004\\nNR111   \n",
       "3              MA11004\\nNR111                               \n",
       "4              cy11003\\nNR111              cy11003\\nNR111   \n",
       "\n",
       "              2:0:PM-2:55:PM.             3:0:PM-3:55:PM.  \\\n",
       "0                                          £C21201\\nNR311   \n",
       "1              £C21201\\nNR311              £C21201\\nNR311   \n",
       "2                                                           \n",
       "3                                                           \n",
       "4  cy19003\\nIn the Department  cy19003\\nIn the Department   \n",
       "\n",
       "              4:0:PM-4:55:PM. 5:0:PM-5:55:PM.  \n",
       "0              £C21201\\nNR311                  \n",
       "1                                              \n",
       "2                                              \n",
       "3                                              \n",
       "4  cy19003\\nIn the Department                  "
      ]
     },
     "execution_count": 9,
     "metadata": {},
     "output_type": "execute_result"
    }
   ],
   "source": [
    "# row[0] is the first row: presents the columns\n",
    "columns = rows[0]\n",
    "\n",
    "\n",
    "df = [[] for _ in range(len(rows)-1)]\n",
    "for col in columns:\n",
    "    for i in range(1, len(rows)):\n",
    "        row = rows[i]\n",
    "        intersecting_column = get_maximum_intersecting_column(row, col)\n",
    "        df[i-1].append(row[intersecting_column].get_text(gray))\n",
    "\n",
    "\n",
    "pd.DataFrame(df, columns=[col.get_text(gray) for col in columns])"
   ]
  }
 ],
 "metadata": {
  "kernelspec": {
   "display_name": "Python 3",
   "language": "python",
   "name": "python3"
  },
  "language_info": {
   "codemirror_mode": {
    "name": "ipython",
    "version": 3
   },
   "file_extension": ".py",
   "mimetype": "text/x-python",
   "name": "python",
   "nbconvert_exporter": "python",
   "pygments_lexer": "ipython3",
   "version": "3.12.8"
  }
 },
 "nbformat": 4,
 "nbformat_minor": 2
}
